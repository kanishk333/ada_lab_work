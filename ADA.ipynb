{
 "cells": [
  {
   "cell_type": "markdown",
   "metadata": {},
   "source": [
    "# Q1 Insertion Sort"
   ]
  },
  {
   "cell_type": "code",
   "execution_count": 14,
   "metadata": {},
   "outputs": [
    {
     "name": "stdout",
     "output_type": "stream",
     "text": [
      "5 6 11 12 13 "
     ]
    }
   ],
   "source": [
    "def insertionSort(arr): \n",
    "    for i in range(1, len(arr)):\n",
    "        temp = arr[i] \n",
    "        j = i-1\n",
    "        while j >= 0 and temp < arr[j]:\n",
    "            arr[j + 1] = arr[j] \n",
    "            j-=1;\n",
    "        arr[j + 1] = temp\n",
    "arr = [12, 11, 13, 5, 6] \n",
    "insertionSort(arr) \n",
    "for i in range(len(arr)): \n",
    "    print(arr[i],end=\" \")"
   ]
  },
  {
   "cell_type": "markdown",
   "metadata": {},
   "source": [
    "# Q2 a)Find max and min in array"
   ]
  },
  {
   "cell_type": "code",
   "execution_count": 25,
   "metadata": {},
   "outputs": [
    {
     "name": "stdout",
     "output_type": "stream",
     "text": [
      "Smallest element is: 4\n",
      "Largest element is: 99\n"
     ]
    }
   ],
   "source": [
    "list1 = [10, 20, 4, 45, 99]  \n",
    "list1.sort() \n",
    "print(\"Smallest element is:\",list1[0])\n",
    "print(\"Largest element is:\",list1[-1])"
   ]
  },
  {
   "cell_type": "markdown",
   "metadata": {},
   "source": [
    "# b) Find the power of an element among n elements"
   ]
  },
  {
   "cell_type": "code",
   "execution_count": 28,
   "metadata": {},
   "outputs": [
    {
     "name": "stdout",
     "output_type": "stream",
     "text": [
      "Enter number to calculate power2\n",
      "Enter the power3\n",
      "8\n"
     ]
    }
   ],
   "source": [
    "x=int(input(\"Enter number to calculate power\"))\n",
    "y=int(input(\"Enter the power\"))\n",
    "print(x**y)"
   ]
  },
  {
   "cell_type": "markdown",
   "metadata": {},
   "source": [
    "# Q3 Selection sort"
   ]
  },
  {
   "cell_type": "code",
   "execution_count": 30,
   "metadata": {},
   "outputs": [
    {
     "name": "stdout",
     "output_type": "stream",
     "text": [
      "Sorted array:\n",
      "1 3 4 7 8 10 "
     ]
    }
   ],
   "source": [
    "A=[7,4,10,8,3,1]\n",
    "for i in range(len(A)): \n",
    "    min = i \n",
    "    for j in range(i+1, len(A)): \n",
    "        if A[min] > A[j]: \n",
    "            min = j \n",
    "    A[i], A[min] = A[min], A[i]\n",
    "print (\"Sorted array:\") \n",
    "for i in range(len(A)): \n",
    "    print(A[i],end=\" \")"
   ]
  },
  {
   "cell_type": "markdown",
   "metadata": {},
   "source": [
    "# Q4 Recursive Binary Search"
   ]
  },
  {
   "cell_type": "code",
   "execution_count": 31,
   "metadata": {},
   "outputs": [],
   "source": [
    "def binarySearch (arr, l, r, x):  \n",
    "    if r >= l: \n",
    "        mid = l + (r - l)//2\n",
    "        if arr[mid] == x: \n",
    "            return mid \n",
    "        elif arr[mid] > x: \n",
    "            return binarySearch(arr, l, mid-1, x)  \n",
    "        else: \n",
    "            return binarySearch(arr, mid+1, r, x) \n",
    "    else: \n",
    "        return -1"
   ]
  },
  {
   "cell_type": "code",
   "execution_count": 33,
   "metadata": {},
   "outputs": [
    {
     "name": "stdout",
     "output_type": "stream",
     "text": [
      "Element is present at index 3\n"
     ]
    }
   ],
   "source": [
    "arr = [ 2, 3, 4, 10, 40 ] \n",
    "x = 10 \n",
    "result = binarySearch(arr, 0, len(arr)-1, x) \n",
    "if result != -1: \n",
    "    print(\"Element is present at index %d\" % result) \n",
    "else: \n",
    "    print(\"Element is not present in array\")"
   ]
  },
  {
   "cell_type": "markdown",
   "metadata": {},
   "source": [
    "# Q5 Merge Sort"
   ]
  },
  {
   "cell_type": "code",
   "execution_count": 34,
   "metadata": {},
   "outputs": [],
   "source": [
    "def merge(arr, l, m, r): \n",
    "    n1 = m - l + 1\n",
    "    n2 = r- m \n",
    "    L = [0] * (n1) \n",
    "    R = [0] * (n2) \n",
    "    for i in range(0 , n1): \n",
    "        L[i] = arr[l + i] \n",
    "    for j in range(0 , n2): \n",
    "        R[j] = arr[m + 1 + j]  \n",
    "    i = 0      \n",
    "    j = 0     \n",
    "    k = l     \n",
    "    while i < n1 and j < n2 : \n",
    "        if L[i] <= R[j]: \n",
    "            arr[k] = L[i] \n",
    "            i += 1\n",
    "        else: \n",
    "            arr[k] = R[j] \n",
    "            j += 1\n",
    "        k += 1 \n",
    "    while i < n1: \n",
    "        arr[k] = L[i] \n",
    "        i += 1\n",
    "        k += 1\n",
    "    while j < n2: \n",
    "        arr[k] = R[j] \n",
    "        j += 1\n",
    "        k += 1 \n",
    "def mergeSort(arr,l,r): \n",
    "    if l < r:  \n",
    "        m = (l+(r-1))//2 \n",
    "        mergeSort(arr, l, m) \n",
    "        mergeSort(arr, m+1, r) \n",
    "        merge(arr, l, m, r) "
   ]
  },
  {
   "cell_type": "code",
   "execution_count": 37,
   "metadata": {},
   "outputs": [
    {
     "name": "stdout",
     "output_type": "stream",
     "text": [
      "Sorted array is:\n",
      "5 6 7 11 12 13 "
     ]
    }
   ],
   "source": [
    "arr = [12, 11, 13, 5, 6, 7] \n",
    "n = len(arr)   \n",
    "mergeSort(arr,0,n-1) \n",
    "print(\"Sorted array is:\") \n",
    "for i in range(n): \n",
    "    print (arr[i],end=\" \")"
   ]
  },
  {
   "cell_type": "markdown",
   "metadata": {},
   "source": [
    "# Q6 Quick sort"
   ]
  },
  {
   "cell_type": "code",
   "execution_count": 38,
   "metadata": {},
   "outputs": [],
   "source": [
    "def partition(arr,low,high): \n",
    "    i = ( low-1 )          \n",
    "    pivot = arr[high]     \n",
    "    for j in range(low , high): \n",
    "        if   arr[j] <= pivot: \n",
    "            i = i+1 \n",
    "            arr[i],arr[j] = arr[j],arr[i] \n",
    "    arr[i+1],arr[high] = arr[high],arr[i+1] \n",
    "    return ( i+1 ) \n",
    "def quickSort(arr,low,high): \n",
    "    if low < high: \n",
    "        pi = partition(arr,low,high)  \n",
    "        quickSort(arr, low, pi-1) \n",
    "        quickSort(arr, pi+1, high) "
   ]
  },
  {
   "cell_type": "code",
   "execution_count": 40,
   "metadata": {},
   "outputs": [
    {
     "name": "stdout",
     "output_type": "stream",
     "text": [
      "Sorted array is:\n",
      "1 5 7 8 9 10 "
     ]
    }
   ],
   "source": [
    "arr = [10, 7, 8, 9, 1, 5] \n",
    "n = len(arr) \n",
    "quickSort(arr,0,n-1) \n",
    "print (\"Sorted array is:\") \n",
    "for i in range(n): \n",
    "    print (arr[i],end=\" \")"
   ]
  },
  {
   "cell_type": "markdown",
   "metadata": {},
   "source": [
    "# Q7 Heap Sort"
   ]
  },
  {
   "cell_type": "code",
   "execution_count": 43,
   "metadata": {},
   "outputs": [],
   "source": [
    "def heapify(arr, n, i): \n",
    "    largest = i   \n",
    "    l = 2 * i + 1      \n",
    "    r = 2 * i + 2    \n",
    "    if l < n and arr[i] < arr[l]: \n",
    "        largest = l \n",
    "    if r < n and arr[largest] < arr[r]: \n",
    "        largest = r \n",
    "    if largest != i: \n",
    "        arr[i],arr[largest] = arr[largest],arr[i]\n",
    "        heapify(arr, n, largest) "
   ]
  },
  {
   "cell_type": "code",
   "execution_count": 44,
   "metadata": {},
   "outputs": [],
   "source": [
    "def heapSort(arr): \n",
    "    n = len(arr)  \n",
    "    for i in range(n, -1, -1): \n",
    "        heapify(arr, n, i)  \n",
    "    for i in range(n-1, 0, -1): \n",
    "        arr[i], arr[0] = arr[0], arr[i] \n",
    "        heapify(arr, i, 0)"
   ]
  },
  {
   "cell_type": "code",
   "execution_count": 45,
   "metadata": {},
   "outputs": [
    {
     "name": "stdout",
     "output_type": "stream",
     "text": [
      "Sorted array is:\n",
      "5 6 7 11 12 13 "
     ]
    }
   ],
   "source": [
    "arr = [ 12, 11, 13, 5, 6, 7] \n",
    "heapSort(arr) \n",
    "n = len(arr) \n",
    "print (\"Sorted array is:\") \n",
    "for i in range(n): \n",
    "    print (arr[i],end=\" \")"
   ]
  },
  {
   "cell_type": "markdown",
   "metadata": {},
   "source": [
    "# Q8 Strassen's matrix multiplication"
   ]
  },
  {
   "cell_type": "code",
   "execution_count": 46,
   "metadata": {},
   "outputs": [
    {
     "name": "stderr",
     "output_type": "stream",
     "text": [
      "Usage: ipykernel_launcher.py [options]\n",
      "\n",
      "ipykernel_launcher.py: error: no such option: -f\n"
     ]
    },
    {
     "ename": "SystemExit",
     "evalue": "2",
     "output_type": "error",
     "traceback": [
      "An exception has occurred, use %tb to see the full traceback.\n",
      "\u001b[1;31mSystemExit\u001b[0m\u001b[1;31m:\u001b[0m 2\n"
     ]
    },
    {
     "name": "stderr",
     "output_type": "stream",
     "text": [
      "C:\\Users\\91964\\Anaconda3\\lib\\site-packages\\IPython\\core\\interactiveshell.py:3304: UserWarning: To exit: use 'exit', 'quit', or Ctrl-D.\n",
      "  warn(\"To exit: use 'exit', 'quit', or Ctrl-D.\", stacklevel=1)\n"
     ]
    }
   ],
   "source": [
    "from optparse import OptionParser\n",
    "\n",
    "parser = OptionParser()\n",
    "parser.add_option(\n",
    "    \"-i\",\n",
    "    dest=\"filename\",\n",
    "    default=\"2000.in\",\n",
    "    help=\"input file with two matrices\",\n",
    "    metavar=\"FILE\",\n",
    ")\n",
    "(options, args) = parser.parse_args()\n",
    "\n",
    "\n",
    "def read(filename):\n",
    "    lines = open(filename, \"r\").read().splitlines()\n",
    "    A = []\n",
    "    B = []\n",
    "    matrix = A\n",
    "    for line in lines:\n",
    "        if line != \"\":\n",
    "            matrix.append(map(int, line.split(\"\\t\")))\n",
    "        else:\n",
    "            matrix = B\n",
    "    return A, B\n",
    "\n",
    "\n",
    "def printMatrix(matrix):\n",
    "    for line in matrix:\n",
    "        print(\"\\t\".join(map(str, line)))\n",
    "\n",
    "\n",
    "def standardMatrixProduct(A, B):\n",
    "    n = len(A)\n",
    "    C = [[0 for i in range(n)] for j in range(n)]\n",
    "    for i in range(n):\n",
    "        for j in range(n):\n",
    "            for k in range(n):\n",
    "                C[i][j] += A[i][k] * B[k][j]\n",
    "    return C\n",
    "\n",
    "\n",
    "A, B = read(options.filename)\n",
    "C = standardMatrixProduct(A, B)\n",
    "printMatrix(C)"
   ]
  },
  {
   "cell_type": "markdown",
   "metadata": {},
   "source": [
    "# Q9 Knapsack problem"
   ]
  },
  {
   "cell_type": "code",
   "execution_count": 47,
   "metadata": {},
   "outputs": [],
   "source": [
    "def knapSack(W, wt, val, n): \n",
    "    if n == 0 or W == 0 : \n",
    "        return 0\n",
    "    if (wt[n-1] > W): \n",
    "        return knapSack(W, wt, val, n-1) \n",
    "    else: \n",
    "        return max(val[n-1] + knapSack(W-wt[n-1], wt, val, n-1), \n",
    "                   knapSack(W, wt, val, n-1)) "
   ]
  },
  {
   "cell_type": "code",
   "execution_count": 49,
   "metadata": {},
   "outputs": [
    {
     "name": "stdout",
     "output_type": "stream",
     "text": [
      "220\n"
     ]
    }
   ],
   "source": [
    "val = [60, 100, 120] \n",
    "wt = [10, 20, 30] \n",
    "W = 50\n",
    "n = len(val) \n",
    "print(knapSack(W, wt, val, n))"
   ]
  },
  {
   "cell_type": "markdown",
   "metadata": {},
   "source": [
    "# Q10 Prim's Algorithm"
   ]
  },
  {
   "cell_type": "code",
   "execution_count": 62,
   "metadata": {},
   "outputs": [
    {
     "name": "stdout",
     "output_type": "stream",
     "text": [
      "Edge \tWeight\n",
      "0 - 1 \t 2\n",
      "1 - 2 \t 3\n",
      "0 - 3 \t 6\n",
      "1 - 4 \t 5\n"
     ]
    }
   ],
   "source": [
    "import sys\n",
    "class Graph(): \n",
    "  \n",
    "    def __init__(self, vertices): \n",
    "        self.V = vertices \n",
    "        self.graph = [[0 for column in range(vertices)]  \n",
    "                    for row in range(vertices)] \n",
    "    def printMST(self, parent): \n",
    "        print(\"Edge \\tWeight\")\n",
    "        for i in range(1, self.V): \n",
    "            print(parent[i], \"-\", i, \"\\t\", self.graph[i][ parent[i] ]) \n",
    "    def minKey(self, key, mstSet): \n",
    "        min = sys.maxsize\n",
    "        for v in range(self.V): \n",
    "            if key[v] < min and mstSet[v] == False: \n",
    "                min = key[v] \n",
    "                min_index = v \n",
    "        return min_index \n",
    "    def primMST(self):  \n",
    "        key = [sys.maxsize] * self.V \n",
    "        parent = [None] * self.V \n",
    "        key[0] = 0 \n",
    "        mstSet = [False] * self.V \n",
    "        parent[0] = -1\n",
    "        for cout in range(self.V): \n",
    "            u = self.minKey(key, mstSet) \n",
    "            for v in range(self.V): \n",
    "                if self.graph[u][v] > 0 and mstSet[v] == False and key[v] > self.graph[u][v]: \n",
    "                        key[v] = self.graph[u][v] \n",
    "                        parent[v] = u \n",
    "        self.printMST(parent) \n",
    "g = Graph(5) \n",
    "g.graph = [ [0, 2, 0, 6, 0], \n",
    "            [2, 0, 3, 8, 5], \n",
    "            [0, 3, 0, 0, 7], \n",
    "            [6, 8, 0, 0, 9], \n",
    "            [0, 5, 7, 9, 0]] \n",
    "  \n",
    "g.primMST(); "
   ]
  },
  {
   "cell_type": "markdown",
   "metadata": {},
   "source": [
    "# Q11 Kruskal's Algorithm"
   ]
  },
  {
   "cell_type": "code",
   "execution_count": 64,
   "metadata": {},
   "outputs": [
    {
     "name": "stdout",
     "output_type": "stream",
     "text": [
      "Following are the edges in the constructed MST\n",
      "2 -- 3 == 4\n",
      "0 -- 3 == 5\n",
      "0 -- 1 == 10\n"
     ]
    }
   ],
   "source": [
    "from collections import defaultdict \n",
    "class Graph: \n",
    "    def __init__(self,vertices): \n",
    "        self.V= vertices  \n",
    "        self.graph = [] \n",
    "    def addEdge(self,u,v,w): \n",
    "        self.graph.append([u,v,w]) \n",
    "    def find(self, parent, i): \n",
    "        if parent[i] == i: \n",
    "            return i \n",
    "        return self.find(parent, parent[i]) \n",
    "    def union(self, parent, rank, x, y): \n",
    "        xroot = self.find(parent, x) \n",
    "        yroot = self.find(parent, y)  \n",
    "        if rank[xroot] < rank[yroot]: \n",
    "            parent[xroot] = yroot \n",
    "        elif rank[xroot] > rank[yroot]: \n",
    "            parent[yroot] = xroot  \n",
    "        else : \n",
    "            parent[yroot] = xroot \n",
    "            rank[xroot] += 1\n",
    "    def KruskalMST(self): \n",
    "        result =[]\n",
    "        i = 0 \n",
    "        e = 0 \n",
    "        self.graph =  sorted(self.graph,key=lambda item: item[2]) \n",
    "        parent = [] ; rank = [] \n",
    "        for node in range(self.V): \n",
    "            parent.append(node) \n",
    "            rank.append(0) \n",
    "        while e < self.V -1 : \n",
    "            u,v,w =  self.graph[i] \n",
    "            i = i + 1\n",
    "            x = self.find(parent, u) \n",
    "            y = self.find(parent ,v) \n",
    "            if x != y: \n",
    "                e = e + 1     \n",
    "                result.append([u,v,w]) \n",
    "                self.union(parent, rank, x, y)             \n",
    "        print(\"Following are the edges in the constructed MST\")\n",
    "        for u,v,weight  in result: \n",
    "            print (\"%d -- %d == %d\" % (u,v,weight)) \n",
    "g = Graph(4) \n",
    "g.addEdge(0, 1, 10) \n",
    "g.addEdge(0, 2, 6) \n",
    "g.addEdge(0, 3, 5) \n",
    "g.addEdge(1, 3, 15) \n",
    "g.addEdge(2, 3, 4) \n",
    "g.KruskalMST() "
   ]
  },
  {
   "cell_type": "markdown",
   "metadata": {},
   "source": [
    "# Q12 Dijkstra's Algorithm"
   ]
  },
  {
   "cell_type": "code",
   "execution_count": 88,
   "metadata": {},
   "outputs": [],
   "source": [
    "from pqdict import PQDict\n",
    "def dijkstra(G, start, end=None):\n",
    "    inf = float('inf')\n",
    "    D = {start: 0}         \n",
    "    Q = PQDict(D)           \n",
    "    P = {}                  \n",
    "    U = set(G.keys())      \n",
    "\n",
    "    while U:                                   \n",
    "        (v, d) = Q.popitem()                    \n",
    "        D[v] = d                            \n",
    "        U.remove(v)                            \n",
    "        if v == end: break \n",
    "        for w in G[v]:                       \n",
    "            if w in U:                          \n",
    "                d = D[v] + G[v][w]             \n",
    "                if d < Q.get(w, inf):\n",
    "                    Q[w] = d                    \n",
    "                    P[w] = v                    \n",
    "    return D, P\n",
    "def shortest_path(G, start, end):\n",
    "    dist, pred = dijkstra(G, start, end)\n",
    "    v = end\n",
    "    path = [v]\n",
    "    while v != start:\n",
    "        v = pred[v]\n",
    "        path.append(v)        \n",
    "    path.reverse()\n",
    "    return path\n",
    "\n",
    "\n",
    "def make_graph(filename):\n",
    "    G = {}\n",
    "\n",
    "    with open(filename) as file:\n",
    "        for row in file:\n",
    "            r = row.strip().split('\\t')\n",
    "            label = r.pop(0)\n",
    "            neighbors = {v: int(length) for v, length in [e.split(',') for e in r]}\n",
    "            G[label] = neighbors\n",
    "\n",
    "    return G\n",
    "\n",
    "\n",
    "if __name__ == '__main__':\n",
    "\n",
    "    graph = {'a': {'b': 1}, \n",
    "             'b': {'c': 2, 'b': 5}, \n",
    "             'c': {'d': 1},\n",
    "             'd': {}}\n",
    "\n",
    "    dist, pred = dijkstra(graph, 'a') \n",
    "    assert dist == {'a': 0, 'c': 3, 'b': 1, 'd': 4}     \n",
    "    assert pred == {'b': 'a', 'c': 'b', 'd': 'c'}     \n",
    "    assert shortest_path(graph, 'a', 'd') == list('abcd')\n",
    "\n",
    "    graph = {'a': {'b': 14, 'c': 9, 'd': 7},\n",
    "             'b': {'a': 14, 'c': 2, 'e': 9},\n",
    "             'c': {'a': 9, 'b': 2, 'd': 10, 'f': 11},\n",
    "             'd': {'a': 7, 'c': 10, 'f': 15},\n",
    "             'e': {'b': 9, 'f': 6},\n",
    "             'f': {'c': 11, 'd': 15, 'e': 6}}\n",
    "\n",
    "    dist, pred = dijkstra(graph, start='a')\n",
    "    expected = {'a': 0, 'c': 9, 'b': 11, 'e': 20, 'd': 7, 'f': 20}\n",
    "    assert dist == expected"
   ]
  },
  {
   "cell_type": "code",
   "execution_count": null,
   "metadata": {},
   "outputs": [],
   "source": []
  }
 ],
 "metadata": {
  "kernelspec": {
   "display_name": "Python 3",
   "language": "python",
   "name": "python3"
  },
  "language_info": {
   "codemirror_mode": {
    "name": "ipython",
    "version": 3
   },
   "file_extension": ".py",
   "mimetype": "text/x-python",
   "name": "python",
   "nbconvert_exporter": "python",
   "pygments_lexer": "ipython3",
   "version": "3.7.3"
  }
 },
 "nbformat": 4,
 "nbformat_minor": 2
}
